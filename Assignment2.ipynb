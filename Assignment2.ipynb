{
  "nbformat": 4,
  "nbformat_minor": 0,
  "metadata": {
    "colab": {
      "provenance": [],
      "include_colab_link": true
    },
    "kernelspec": {
      "name": "python3",
      "display_name": "Python 3"
    },
    "language_info": {
      "name": "python"
    },
    "gpuClass": "standard"
  },
  "cells": [
    {
      "cell_type": "markdown",
      "metadata": {
        "id": "view-in-github",
        "colab_type": "text"
      },
      "source": [
        "<a href=\"https://colab.research.google.com/github/ayushbaghel01/InvestX_asgnmnt/blob/main/Assignment2.ipynb\" target=\"_parent\"><img src=\"https://colab.research.google.com/assets/colab-badge.svg\" alt=\"Open In Colab\"/></a>"
      ]
    },
    {
      "cell_type": "code",
      "execution_count": 382,
      "metadata": {
        "id": "F3NmyDkdaw3f"
      },
      "outputs": [],
      "source": [
        "import numpy as np\n",
        "from tensorflow.keras.models import Sequential\n",
        "from tensorflow.keras.layers import LSTM\n",
        "from tensorflow.keras.layers import Dense, Dropout\n",
        "import pandas as pd\n",
        "from matplotlib import pyplot as plt\n",
        "from sklearn.preprocessing import StandardScaler\n",
        "import seaborn as sns\n",
        "#from datetime import datetime"
      ]
    },
    {
      "cell_type": "markdown",
      "source": [
        "**NOTE : All the code is same as that is provided in the google meet, The code for finding efficiency of the below model is included in the last code blocks.**"
      ],
      "metadata": {
        "id": "LLKVZ8YjNvWy"
      }
    },
    {
      "cell_type": "code",
      "source": [
        "df = pd.read_csv('Train.csv')\n",
        "print(df.head())\n",
        "df=df.head(150)"
      ],
      "metadata": {
        "colab": {
          "base_uri": "https://localhost:8080/"
        },
        "id": "9aH7bA5fdNV8",
        "outputId": "b38416fb-9862-4f6d-f2d5-94f8c728bdce"
      },
      "execution_count": 383,
      "outputs": [
        {
          "output_type": "stream",
          "name": "stdout",
          "text": [
            "         Date    Stock  liabilities      equity  total_assets  current_assets  \\\n",
            "0  2006-07-31  Stock 1   625.898686  925.086518   1550.985204      675.789905   \n",
            "1  2006-08-31  Stock 1   407.387467  903.249093   1310.636561     1023.110983   \n",
            "2  2006-09-29  Stock 1   464.069891  602.668832   1066.738722      709.711673   \n",
            "3  2006-10-31  Stock 1   855.854937  391.375369   1247.230306      649.979564   \n",
            "4  2006-11-30  Stock 1   453.954969  956.490566   1410.445534     1115.594551   \n",
            "\n",
            "   current_liabilities  total_revenue  net_income   dividend  \\\n",
            "0           555.931329     548.488451  251.282553  68.184030   \n",
            "1          1295.186240     513.446432  207.576940  42.232672   \n",
            "2           598.719338     503.519871  133.719700  28.835722   \n",
            "3           733.594339     596.006397  -76.881818   0.000000   \n",
            "4          1152.274711     965.939247 -309.204301   0.000000   \n",
            "\n",
            "   shares_outstanding       price  \n",
            "0             1040831  100.000000  \n",
            "1             1046649  101.924169  \n",
            "2             1094158  103.166191  \n",
            "3             1018574  104.478956  \n",
            "4             1036293  104.160907  \n"
          ]
        }
      ]
    },
    {
      "cell_type": "code",
      "source": [
        "df['MACD_line']= (df.price.ewm(span=5).mean() - df.price.ewm(span=13).mean())\n",
        "\n",
        "signal_line = df.MACD_line.ewm(span = 18).mean()\n",
        "df['liabilities']=signal_line\n",
        "df['equity']= df['MACD_line']\n",
        "df['dividend'] = df.price.ewm(span=14).mean()\n",
        "df['total_revenue']=(df.MACD_line -signal_line)\n",
        "print(df)\n"
      ],
      "metadata": {
        "id": "e-qWk7l_CJN-",
        "colab": {
          "base_uri": "https://localhost:8080/"
        },
        "outputId": "2388885c-5849-4394-9fbd-e5e30ed6f8ae"
      },
      "execution_count": 384,
      "outputs": [
        {
          "output_type": "stream",
          "name": "stdout",
          "text": [
            "           Date    Stock  liabilities    equity  total_assets  current_assets  \\\n",
            "0    2006-07-31  Stock 1     0.000000  0.000000   1550.985204      675.789905   \n",
            "1    2006-08-31  Stock 1     0.062494  0.118410   1310.636561     1023.110983   \n",
            "2    2006-09-29  Stock 1     0.131864  0.249466   1066.738722      709.711673   \n",
            "3    2006-10-31  Stock 1     0.216612  0.420989   1247.230306      649.979564   \n",
            "4    2006-11-30  Stock 1     0.270542  0.435161   1410.445534     1115.594551   \n",
            "..          ...      ...          ...       ...           ...             ...   \n",
            "145  2018-08-31  Stock 1    -0.322183 -0.692527   1552.537263      661.976873   \n",
            "146  2018-09-28  Stock 1    -0.385699 -0.925590   1003.487923      774.901898   \n",
            "147  2018-10-31  Stock 1    -0.437392 -0.876781   1026.406473      583.243894   \n",
            "148  2018-11-30  Stock 1    -0.499590 -1.028273   1443.744070      636.300679   \n",
            "149  2018-12-31  Stock 1    -0.573092 -1.197860   1455.586484      619.734902   \n",
            "\n",
            "     current_liabilities  total_revenue  net_income    dividend  \\\n",
            "0             555.931329       0.000000  251.282553  100.000000   \n",
            "1            1295.186240       0.055916  207.576940  101.030805   \n",
            "2             598.719338       0.117602  133.719700  101.846530   \n",
            "3             733.594339       0.204377  -76.881818  102.651863   \n",
            "4            1152.274711       0.164618 -309.204301  103.045570   \n",
            "..                   ...            ...         ...         ...   \n",
            "145           715.889802      -0.370345   88.769479  123.307598   \n",
            "146           859.111171      -0.539891  139.537471  122.975547   \n",
            "147           719.977839      -0.439389 -257.296635  122.784308   \n",
            "148           561.640812      -0.528683  -72.796162  122.463773   \n",
            "149           690.981133      -0.624768  -12.169262  122.093586   \n",
            "\n",
            "     shares_outstanding       price  MACD_line  \n",
            "0               1040831  100.000000   0.000000  \n",
            "1               1046649  101.924169   0.118410  \n",
            "2               1094158  103.166191   0.249466  \n",
            "3               1018574  104.478956   0.420989  \n",
            "4               1036293  104.160907   0.435161  \n",
            "..                  ...         ...        ...  \n",
            "145             1022653  120.895608  -0.692527  \n",
            "146             1012494  120.817216  -0.925590  \n",
            "147             1088180  121.541253  -0.876781  \n",
            "148             1046014  120.380297  -1.028273  \n",
            "149             1074004  119.687371  -1.197860  \n",
            "\n",
            "[150 rows x 13 columns]\n"
          ]
        }
      ]
    },
    {
      "cell_type": "code",
      "source": [
        "cols = list(df)[2:12]\n",
        "print(cols)"
      ],
      "metadata": {
        "colab": {
          "base_uri": "https://localhost:8080/"
        },
        "id": "YLtCdVuQdaqD",
        "outputId": "e70853a9-f6c0-4a62-eb35-927383fe8b21"
      },
      "execution_count": 385,
      "outputs": [
        {
          "output_type": "stream",
          "name": "stdout",
          "text": [
            "['liabilities', 'equity', 'total_assets', 'current_assets', 'current_liabilities', 'total_revenue', 'net_income', 'dividend', 'shares_outstanding', 'price']\n"
          ]
        }
      ]
    },
    {
      "cell_type": "code",
      "source": [
        "df_for_training = df[cols].astype(float)"
      ],
      "metadata": {
        "id": "kW6fJrsveCsy"
      },
      "execution_count": 386,
      "outputs": []
    },
    {
      "cell_type": "code",
      "source": [
        "scaler = StandardScaler()\n",
        "scaler = scaler.fit(df_for_training)\n",
        "df_for_training_scaled = scaler.transform(df_for_training)"
      ],
      "metadata": {
        "id": "sMJHDh0Eea0u"
      },
      "execution_count": 387,
      "outputs": []
    },
    {
      "cell_type": "code",
      "source": [
        "trainX = []\n",
        "trainY = []"
      ],
      "metadata": {
        "id": "UXLCuxpYefYU"
      },
      "execution_count": 388,
      "outputs": []
    },
    {
      "cell_type": "code",
      "source": [
        "n_future = 1  # Number of days we want to look into the future based on the past days.\n",
        "n_past = 14 # Number of past days we want to use to predict the future."
      ],
      "metadata": {
        "id": "SlZmQQHaepNo"
      },
      "execution_count": 389,
      "outputs": []
    },
    {
      "cell_type": "code",
      "source": [
        "for i in range(n_past, len(df_for_training_scaled) - n_future +1):\n",
        "    trainX.append(df_for_training_scaled[i - n_past:i, 0:df_for_training.shape[1]])\n",
        "    trainY.append(df_for_training_scaled[i + n_future - 1:i + n_future, 9])\n",
        "\n",
        "trainX, trainY = np.array(trainX), np.array(trainY)\n",
        "\n",
        "print('trainX shape == {}.'.format(trainX.shape))\n",
        "print('trainY shape == {}.'.format(trainY.shape))"
      ],
      "metadata": {
        "colab": {
          "base_uri": "https://localhost:8080/"
        },
        "id": "9UGlhknUfFXB",
        "outputId": "1a430e55-c265-419b-c454-b1ba4e56378e"
      },
      "execution_count": 390,
      "outputs": [
        {
          "output_type": "stream",
          "name": "stdout",
          "text": [
            "trainX shape == (136, 14, 10).\n",
            "trainY shape == (136, 1).\n"
          ]
        }
      ]
    },
    {
      "cell_type": "code",
      "source": [
        "df_for_training_scaled;"
      ],
      "metadata": {
        "id": "Mf2hun7pvqvf"
      },
      "execution_count": 391,
      "outputs": []
    },
    {
      "cell_type": "code",
      "source": [
        "trainY;"
      ],
      "metadata": {
        "id": "A4HvqbAkv1ZW"
      },
      "execution_count": 392,
      "outputs": []
    },
    {
      "cell_type": "code",
      "source": [
        "model = Sequential()\n",
        "model.add(LSTM(64, activation='relu', input_shape=(trainX.shape[1], trainX.shape[2]), return_sequences=True)) \n",
        "model.add(LSTM(32, activation='relu', return_sequences=False))\n",
        "model.add(Dropout(0.2))\n",
        "model.add(Dense(trainY.shape[1]))\n",
        "\n",
        "model.compile(optimizer='adam', loss='mse')\n",
        "model.summary()"
      ],
      "metadata": {
        "colab": {
          "base_uri": "https://localhost:8080/"
        },
        "id": "xLJ_fEZ8foI3",
        "outputId": "3023e6f5-2b2f-4258-fd12-e7a38db60228"
      },
      "execution_count": 393,
      "outputs": [
        {
          "output_type": "stream",
          "name": "stdout",
          "text": [
            "Model: \"sequential_16\"\n",
            "_________________________________________________________________\n",
            " Layer (type)                Output Shape              Param #   \n",
            "=================================================================\n",
            " lstm_32 (LSTM)              (None, 14, 64)            19200     \n",
            "                                                                 \n",
            " lstm_33 (LSTM)              (None, 32)                12416     \n",
            "                                                                 \n",
            " dropout_16 (Dropout)        (None, 32)                0         \n",
            "                                                                 \n",
            " dense_16 (Dense)            (None, 1)                 33        \n",
            "                                                                 \n",
            "=================================================================\n",
            "Total params: 31,649\n",
            "Trainable params: 31,649\n",
            "Non-trainable params: 0\n",
            "_________________________________________________________________\n"
          ]
        }
      ]
    },
    {
      "cell_type": "code",
      "source": [
        "history = model.fit(trainX, trainY, epochs=5, batch_size=3, validation_split=0.1, verbose=1)"
      ],
      "metadata": {
        "colab": {
          "base_uri": "https://localhost:8080/"
        },
        "id": "gR-gELFqhCt3",
        "outputId": "a0416a40-8b4e-480e-9b77-a3d098f36933"
      },
      "execution_count": 394,
      "outputs": [
        {
          "output_type": "stream",
          "name": "stdout",
          "text": [
            "Epoch 1/5\n",
            "41/41 [==============================] - 5s 38ms/step - loss: 0.3169 - val_loss: 0.0779\n",
            "Epoch 2/5\n",
            "41/41 [==============================] - 1s 21ms/step - loss: 0.1065 - val_loss: 0.0847\n",
            "Epoch 3/5\n",
            "41/41 [==============================] - 1s 16ms/step - loss: 0.0789 - val_loss: 0.0880\n",
            "Epoch 4/5\n",
            "41/41 [==============================] - 1s 16ms/step - loss: 0.0600 - val_loss: 0.0603\n",
            "Epoch 5/5\n",
            "41/41 [==============================] - 1s 16ms/step - loss: 0.0591 - val_loss: 0.0577\n"
          ]
        }
      ]
    },
    {
      "cell_type": "code",
      "source": [
        "from pandas.tseries.holiday import USFederalHolidayCalendar\n",
        "from pandas.tseries.offsets import CustomBusinessDay\n",
        "us_bd = CustomBusinessDay(calendar=USFederalHolidayCalendar())"
      ],
      "metadata": {
        "id": "ncph6lCWjfQ_"
      },
      "execution_count": 395,
      "outputs": []
    },
    {
      "cell_type": "code",
      "source": [
        " df2= df.head(150)\n",
        "train_dates = pd.to_datetime(df2['Date'])"
      ],
      "metadata": {
        "id": "DSZrHFBYj7iK"
      },
      "execution_count": 396,
      "outputs": []
    },
    {
      "cell_type": "code",
      "source": [
        "n_past = 1\n",
        "n_days_for_prediction=50  #let us predict past 15 days\n",
        "\n",
        "predict_period_dates = pd.date_range(list(train_dates)[-n_past], periods=n_days_for_prediction, freq='M').tolist()\n",
        "print(predict_period_dates)"
      ],
      "metadata": {
        "colab": {
          "base_uri": "https://localhost:8080/"
        },
        "id": "yAZn0dxejZ-b",
        "outputId": "e420d695-b174-4367-c779-dae9c00b3f7c"
      },
      "execution_count": 397,
      "outputs": [
        {
          "output_type": "stream",
          "name": "stdout",
          "text": [
            "[Timestamp('2018-12-31 00:00:00', freq='M'), Timestamp('2019-01-31 00:00:00', freq='M'), Timestamp('2019-02-28 00:00:00', freq='M'), Timestamp('2019-03-31 00:00:00', freq='M'), Timestamp('2019-04-30 00:00:00', freq='M'), Timestamp('2019-05-31 00:00:00', freq='M'), Timestamp('2019-06-30 00:00:00', freq='M'), Timestamp('2019-07-31 00:00:00', freq='M'), Timestamp('2019-08-31 00:00:00', freq='M'), Timestamp('2019-09-30 00:00:00', freq='M'), Timestamp('2019-10-31 00:00:00', freq='M'), Timestamp('2019-11-30 00:00:00', freq='M'), Timestamp('2019-12-31 00:00:00', freq='M'), Timestamp('2020-01-31 00:00:00', freq='M'), Timestamp('2020-02-29 00:00:00', freq='M'), Timestamp('2020-03-31 00:00:00', freq='M'), Timestamp('2020-04-30 00:00:00', freq='M'), Timestamp('2020-05-31 00:00:00', freq='M'), Timestamp('2020-06-30 00:00:00', freq='M'), Timestamp('2020-07-31 00:00:00', freq='M'), Timestamp('2020-08-31 00:00:00', freq='M'), Timestamp('2020-09-30 00:00:00', freq='M'), Timestamp('2020-10-31 00:00:00', freq='M'), Timestamp('2020-11-30 00:00:00', freq='M'), Timestamp('2020-12-31 00:00:00', freq='M'), Timestamp('2021-01-31 00:00:00', freq='M'), Timestamp('2021-02-28 00:00:00', freq='M'), Timestamp('2021-03-31 00:00:00', freq='M'), Timestamp('2021-04-30 00:00:00', freq='M'), Timestamp('2021-05-31 00:00:00', freq='M'), Timestamp('2021-06-30 00:00:00', freq='M'), Timestamp('2021-07-31 00:00:00', freq='M'), Timestamp('2021-08-31 00:00:00', freq='M'), Timestamp('2021-09-30 00:00:00', freq='M'), Timestamp('2021-10-31 00:00:00', freq='M'), Timestamp('2021-11-30 00:00:00', freq='M'), Timestamp('2021-12-31 00:00:00', freq='M'), Timestamp('2022-01-31 00:00:00', freq='M'), Timestamp('2022-02-28 00:00:00', freq='M'), Timestamp('2022-03-31 00:00:00', freq='M'), Timestamp('2022-04-30 00:00:00', freq='M'), Timestamp('2022-05-31 00:00:00', freq='M'), Timestamp('2022-06-30 00:00:00', freq='M'), Timestamp('2022-07-31 00:00:00', freq='M'), Timestamp('2022-08-31 00:00:00', freq='M'), Timestamp('2022-09-30 00:00:00', freq='M'), Timestamp('2022-10-31 00:00:00', freq='M'), Timestamp('2022-11-30 00:00:00', freq='M'), Timestamp('2022-12-31 00:00:00', freq='M'), Timestamp('2023-01-31 00:00:00', freq='M')]\n"
          ]
        }
      ]
    },
    {
      "cell_type": "code",
      "source": [
        "prediction = model.predict(trainX[-n_days_for_prediction:]) "
      ],
      "metadata": {
        "colab": {
          "base_uri": "https://localhost:8080/"
        },
        "id": "omuhi-fFjuzK",
        "outputId": "3b01de98-4cb2-4fbd-e9b9-e94e65b61afc"
      },
      "execution_count": 398,
      "outputs": [
        {
          "output_type": "stream",
          "name": "stdout",
          "text": [
            "2/2 [==============================] - 0s 8ms/step\n"
          ]
        }
      ]
    },
    {
      "cell_type": "code",
      "source": [
        "prediction_copies = np.repeat(prediction, df_for_training.shape[1], axis=-1)\n",
        "y_pred_future = scaler.inverse_transform(prediction_copies)[:,9]"
      ],
      "metadata": {
        "id": "A68cGGUlkLp7"
      },
      "execution_count": 399,
      "outputs": []
    },
    {
      "cell_type": "code",
      "source": [
        "forecast_dates = []\n",
        "for time_i in predict_period_dates:\n",
        "    forecast_dates.append(time_i.date())\n",
        "    \n",
        "df_forecast = pd.DataFrame({'Date':np.array(forecast_dates), 'price':y_pred_future})\n",
        "df_forecast['Date']=pd.to_datetime(df_forecast['Date'])"
      ],
      "metadata": {
        "id": "RRg0e30rkPIK"
      },
      "execution_count": 400,
      "outputs": []
    },
    {
      "cell_type": "code",
      "source": [
        "original = df[['Date', 'price']]\n",
        "original['Date']=pd.to_datetime(original['Date'])\n"
      ],
      "metadata": {
        "colab": {
          "base_uri": "https://localhost:8080/"
        },
        "id": "7PbdmSaPkUK7",
        "outputId": "2a981353-48e0-4c3c-b24d-b66df83b5b5e"
      },
      "execution_count": 401,
      "outputs": [
        {
          "output_type": "stream",
          "name": "stderr",
          "text": [
            "<ipython-input-401-d6bbd2f4d398>:2: SettingWithCopyWarning: \n",
            "A value is trying to be set on a copy of a slice from a DataFrame.\n",
            "Try using .loc[row_indexer,col_indexer] = value instead\n",
            "\n",
            "See the caveats in the documentation: https://pandas.pydata.org/pandas-docs/stable/user_guide/indexing.html#returning-a-view-versus-a-copy\n",
            "  original['Date']=pd.to_datetime(original['Date'])\n"
          ]
        }
      ]
    },
    {
      "cell_type": "code",
      "source": [
        "df_forecast\n",
        "df_ = pd.read_csv('Train.csv')\n",
        "df_=df_.head(200)\n",
        "predicted_price = df_forecast.price"
      ],
      "metadata": {
        "id": "uQKHlrzh2Jl6"
      },
      "execution_count": 402,
      "outputs": []
    },
    {
      "cell_type": "code",
      "source": [
        "actual_price = df_.price[150:200]"
      ],
      "metadata": {
        "id": "bEiRXG9hJxpj"
      },
      "execution_count": 403,
      "outputs": []
    },
    {
      "cell_type": "code",
      "source": [
        "l=[]\n",
        "for i in range(50):\n",
        "  l.append(abs(predicted_price[i]-actual_price[150+i])/actual_price[150+i])\n",
        "deviation_rd=np.array(l)\n",
        "rms = np.sqrt(np.mean(np.square(deviation_rd)))\n",
        "efficiency = (1-rms)*100\n",
        "print(efficiency)\n",
        "print(l)"
      ],
      "metadata": {
        "colab": {
          "base_uri": "https://localhost:8080/"
        },
        "id": "IBAVU3ixJwYI",
        "outputId": "6a22fe1c-bde8-4af7-a9bb-87be4ee23c39"
      },
      "execution_count": 404,
      "outputs": [
        {
          "output_type": "stream",
          "name": "stdout",
          "text": [
            "84.40160827055145\n",
            "[0.24808128356933593, 0.21905999131717066, 0.2012954164782627, 0.20780730141924414, 0.20869259222116257, 0.2143158079955871, 0.20817014978404466, 0.21118524070886202, 0.20116617606442272, 0.19182456693490899, 0.18059007590288562, 0.16223792400100104, 0.14433075228053646, 0.13211171425604154, 0.13145216919230115, 0.13423965263861695, 0.13451732368505268, 0.12211130115631977, 0.12965097111114474, 0.13969925499306132, 0.13498001591151507, 0.137183827830456, 0.14977958913711817, 0.14530894677336162, 0.1328770600258682, 0.11359941190540605, 0.1147672539488667, 0.12814162880755717, 0.12001911192723892, 0.1103998778293463, 0.11671711382559638, 0.10857278559111562, 0.11857118160712339, 0.11209866994275183, 0.12137691036661456, 0.1167378241293498, 0.1114742690280042, 0.10039525672834845, 0.10998584016760826, 0.1261541631812187, 0.1351396727309151, 0.13100913893825747, 0.12872270840003863, 0.14083869436101765, 0.15075630417991176, 0.15974538338070196, 0.17646185146757098, 0.1923619815416102, 0.2078248571980254, 0.19267588630014848]\n"
          ]
        }
      ]
    }
  ]
}